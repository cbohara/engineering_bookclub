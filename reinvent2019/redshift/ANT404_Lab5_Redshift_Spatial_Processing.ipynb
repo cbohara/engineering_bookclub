{
 "cells": [
  {
   "cell_type": "markdown",
   "metadata": {},
   "source": [
    "# ANT404 Lab #5  - Redshift Spatial Processing\n",
    "\n",
    "In this lab you will use Redshift's new Spatial Processing capabilities, including using Redshift Spectrum to query external and cast it into the `GEOMETRY` data type. Example source data has been shared with your test account. \n",
    "\n",
    "\n",
    "### Background on Redshift Spatial Processing\n",
    "\n",
    "Amazon Redshift recently announced support for spatial data with the addition of a new polymorphic data type `GEOMETRY`. This capability enables you to store, retrieve, and process spatial data so you can enhance your business insights by integrating spatial data into your analytical queries.\n",
    "\n",
    "The new data type supports multiple geometric shapes such as Point, Linestring, Polygon, MultiPoint, MultiLinestring, MultiPolygon, and GeometryCollection. \n",
    "\n",
    "You can add GEOMETRY columns to Redshift tables and write SQL queries spanning across spatial and non-spatial data. Redshift also adds over 40 new spatial SQL functions to construct geometric shapes, import, export, access and process the spatial data. \n",
    "\n",
    "You can also seamlessly extend spatial processing to your data lake by integrating external tables in spatial queries and casting data into `GEOMETRY` during query execution.\n",
    "\n",
    "\n",
    "\n",
    "## 1. Check for credentials file\n",
    "Check for the credentials created in the `START_HERE` notebook."
   ]
  },
  {
   "cell_type": "code",
   "execution_count": null,
   "metadata": {},
   "outputs": [],
   "source": [
    "%%bash\n",
    "cat ant404-lab.creds"
   ]
  },
  {
   "cell_type": "markdown",
   "metadata": {},
   "source": [
    "## 2. Set local variables from credentials file\n",
    "Run this `cell` to import the credentials created in `START_HERE` notebook into this notebook. Later cells rely on these variables."
   ]
  },
  {
   "cell_type": "code",
   "execution_count": null,
   "metadata": {},
   "outputs": [],
   "source": [
    "import simplejson\n",
    "with open(\"ant404-lab.creds\") as fh:\n",
    "    creds = simplejson.loads(fh.read())\n",
    "username=creds[\"user_name\"]\n",
    "password=creds[\"password\"]\n",
    "host_name=creds[\"host_name\"]\n",
    "port_num=creds[\"port_num\"]\n",
    "db_name=creds[\"db_name\"]\n",
    "\n",
    "# Example Account and Region values for this lab\n",
    "log_account=123456789101\n",
    "region=\"us-east-1\"\n",
    "\n",
    "%set_env username={username}\n"
   ]
  },
  {
   "cell_type": "markdown",
   "metadata": {},
   "source": [
    "## 3. Connect to your Redshift cluster\n",
    "\n",
    "You will use the `sqlalchemy` and `ipython-sql` Python libraries to manage the Redshift connection. \n",
    "\n",
    "This cell creates a `%sql` element so we can use the connection in other cells in the notebook.\n",
    "\n",
    "-------\n",
    "_**Note:** Please ignore the pink error message that says: \"UserWarning: The psycopg2 wheel package will be renamed from release 2.8\"_",
    "'**Look for** 'Connected: ant404@dev' in the 'Out [ ]' section below the warning."   ]
  },
  {
   "cell_type": "code",
   "execution_count": null,
   "metadata": {},
   "outputs": [],
   "source": [
    "import sqlalchemy\n",
    "import psycopg2\n",
    "import simplejson\n",
    "\n",
    "%reload_ext sql\n",
    "%config SqlMagic.displaylimit = 25\n",
    "\n",
    "connect_to_db = 'postgresql+psycopg2://'+username+':'+password+'@'+host_name+':'+port_num+'/'+db_name\n",
    "%sql $connect_to_db"
   ]
  },
  {
   "cell_type": "markdown",
   "metadata": {},
   "source": [
    "## 4. Create tables with the `GEOMETRY` spatial data type.\n",
    "The data sets in this lab are based on public data on Berlin published by AirBnB at [insideairbnb.com](http://insideairbnb.com/)\n",
    "\n",
    "### 4.1. `accommodations`\n",
    "This table stores accommodations, each has a geo location which stores their longitude and latitude coordinates as well as meta and business data such as name of the listing and how many people book it over time. "
   ]
  },
  {
   "cell_type": "code",
   "execution_count": null,
   "metadata": {},
   "outputs": [],
   "source": [
    "%%sql\n",
    "DROP TABLE IF EXISTS public.accommodations;\n",
    "CREATE TABLE public.accommodations (\n",
    "       id                             INTEGER   PRIMARY KEY\n",
    "     , shape                          GEOMETRY\n",
    "     , name                           VARCHAR(100)\n",
    "     , host_name                      VARCHAR(100)\n",
    "     , neighbourhood_group            VARCHAR(100)\n",
    "     , neighbourhood                  VARCHAR(100)\n",
    "     , room_type                      VARCHAR(100)\n",
    "     , price                          SMALLINT\n",
    "     , minimum_nights                 SMALLINT\n",
    "     , number_of_reviews              SMALLINT\n",
    "     , last_review                    DATE\n",
    "     , reviews_per_month              NUMERIC(8,2)\n",
    "     , calculated_host_listings_count SMALLINT\n",
    "     , availability_365               SMALLINT\n",
    ");\n",
    "SELECT * FROM information_schema.tables WHERE table_schema = 'public' AND table_name = 'accommodations';"
   ]
  },
  {
   "cell_type": "markdown",
   "metadata": {},
   "source": [
    "### 4.2. `zipcode`\n",
    "A zip code has a polygon and additional meta-data such as name, alias, id, and type."
   ]
  },
  {
   "cell_type": "code",
   "execution_count": null,
   "metadata": {},
   "outputs": [],
   "source": [
    "%%sql\n",
    "DROP TABLE IF EXISTS public.zipcode;\n",
    "CREATE TABLE public.zipcode (\n",
    "       ogc_field     INTEGER IDENTITY(0,1)\n",
    "     , wkb_geometry  GEOMETRY\n",
    "     , gml_id        VARCHAR\n",
    "     , spatial_name  VARCHAR\n",
    "     , spatial_alias VARCHAR\n",
    "     , spatial_type  VARCHAR\n",
    ");\n",
    "SELECT * FROM information_schema.tables WHERE table_schema = 'public' AND table_name = 'zipcode';"
   ]
  },
  {
   "cell_type": "markdown",
   "metadata": {},
   "source": [
    "### 4.3. `attractions`\n",
    "Stores the geo location which stores their longitude and latitude of attractions in the city"
   ]
  },
  {
   "cell_type": "code",
   "execution_count": null,
   "metadata": {},
   "outputs": [],
   "source": [
    "%%sql\n",
    "DROP TABLE IF EXISTS public.attractions;\n",
    "CREATE TABLE public.attractions (\n",
    "       name     VARCHAR\n",
    "     , address  VARCHAR\n",
    "     , lat      FLOAT\n",
    "     , lon      FLOAT\n",
    "     , gps_lat  VARCHAR\n",
    "     , gps_lon  VARCHAR\n",
    ");\n",
    "SELECT * FROM information_schema.tables WHERE table_schema = 'public' AND table_name = 'attractions';"
   ]
  },
  {
   "cell_type": "markdown",
   "metadata": {},
   "source": [
    "## 5. Load data from S3 into Redshift local tables\n",
    "\n",
    "### 5.1. `accommodations`"
   ]
  },
  {
   "cell_type": "code",
   "execution_count": null,
   "metadata": {},
   "outputs": [],
   "source": [
    "%%sql\n",
    "COPY public.accommodations \n",
    "FROM 's3://redshift-managed-loads-datasets-us-east-1/dataset=spatial/size=None/table=accommodations/accommodations.csv' \n",
    "DELIMITER ';' \n",
    "IGNOREHEADER 1 \n",
    "CREDENTIALS 'aws_iam_role=arn:aws:iam::080945919444:role/mod-27c4c61fae3b42fe-RedshiftClusterRole-1GBP75PRR61RG'\n",
    "GZIP\n",
    ";\n",
    "SELECT COUNT(*) FROM public.accommodations;"
   ]
  },
  {
   "cell_type": "markdown",
   "metadata": {},
   "source": [
    "### 5.2. `zipcode`"
   ]
  },
  {
   "cell_type": "code",
   "execution_count": null,
   "metadata": {},
   "outputs": [],
   "source": [
    "%%sql\n",
    "COPY public.zipcode \n",
    "FROM 's3://redshift-managed-loads-datasets-us-east-1/dataset=spatial/size=None/table=zipcode/zipcode.csv.gz' \n",
    "DELIMITER ';' \n",
    "IGNOREHEADER 1\n",
    "EXPLICIT_IDS\n",
    "CREDENTIALS 'aws_iam_role=arn:aws:iam::080945919444:role/mod-27c4c61fae3b42fe-RedshiftClusterRole-1GBP75PRR61RG'\n",
    "GZIP\n",
    ";\n",
    "SELECT COUNT(*) FROM public.zipcode;"
   ]
  },
  {
   "cell_type": "markdown",
   "metadata": {},
   "source": [
    "### 5.3. `attractions`"
   ]
  },
  {
   "cell_type": "code",
   "execution_count": null,
   "metadata": {},
   "outputs": [],
   "source": [
    "%sql SELECT * FROM stl_load_errors ORDER BY query DESC LIMIT 5;"
   ]
  },
  {
   "cell_type": "code",
   "execution_count": null,
   "metadata": {},
   "outputs": [],
   "source": [
    "%%sql\n",
    "COPY public.attractions \n",
    "FROM 's3://redshift-managed-loads-datasets-us-east-1/dataset=spatial/size=None/table=attraction_coordinates/BerlinAttractionCoordinates.txt.gz'\n",
    "DELIMITER '|' \n",
    "IGNOREHEADER 1 \n",
    "CREDENTIALS 'aws_iam_role=arn:aws:iam::080945919444:role/mod-27c4c61fae3b42fe-RedshiftClusterRole-1GBP75PRR61RG'\n",
    "GZIP\n",
    ";\n",
    "SELECT COUNT(*) FROM public.attractions;"
   ]
  },
  {
   "cell_type": "markdown",
   "metadata": {},
   "source": [
    "## 6. Querying spatial data\n",
    "\n",
    "After your  tables are created and filled with data, you can query them using the same SELECT statements that you use to query other Amazon Redshift tables. \n",
    "\n",
    "### 6.1. \n",
    "Get number of listings stored in accommodations where the spatial reference system is WGS84. This spatial reference system has the unique spatial reference identifier 4326."
   ]
  },
  {
   "cell_type": "code",
   "execution_count": null,
   "metadata": {},
   "outputs": [],
   "source": [
    "%%sql\n",
    "SELECT count(*) \n",
    "FROM public.accommodations \n",
    "WHERE ST_SRID(shape) = 4326\n",
    "----------\n",
    "-- 22,248\n",
    ";"
   ]
  },
  {
   "cell_type": "markdown",
   "metadata": {},
   "source": [
    "### 6.2. \n",
    "Fetch geometry object in well known text (WKT) format and additional attributes such as the zip code of this area. Additionally validate if this data is also stored in WGS84 which uses the spatial reference id (SRID) 4326. Spatial data must be stored in the same spatial reference system to be interoperable."
   ]
  },
  {
   "cell_type": "code",
   "execution_count": null,
   "metadata": {},
   "outputs": [],
   "source": [
    "%%sql\n",
    "SELECT ogc_field\n",
    "     , spatial_name\n",
    "     , spatial_type\n",
    "     , ST_SRID(wkb_geometry)\n",
    "     , ST_AsText(wkb_geometry) \n",
    "FROM public.zipcode \n",
    "ORDER BY spatial_name\n",
    "---------------------------------------------\n",
    "-- 0 | 10115 | Polygon | 4326 | POLYGON((...))\n",
    "-- 4 | 10117 | Polygon | 4326 | POLYGON((...))\n",
    "-- 8 | 10119 | Polygon | 4326 | POLYGON((...))\n",
    ";"
   ]
  },
  {
   "cell_type": "markdown",
   "metadata": {},
   "source": [
    "### 6.3.\n",
    "Select the polygon of Berlin Mitte in GeoJSON format, their dimension and calculate the number of points in this polygon."
   ]
  },
  {
   "cell_type": "code",
   "execution_count": null,
   "metadata": {},
   "outputs": [],
   "source": [
    "%%sql\n",
    "SELECT ogc_field\n",
    "     , spatial_name\n",
    "     , ST_AsGeoJSON(wkb_geometry)\n",
    "     , ST_Dimension(wkb_geometry)\n",
    "     , ST_NumPoints(wkb_geometry)\n",
    "FROM public.zipcode \n",
    "WHERE spatial_name='10117'\n",
    "----------------------------------------------------------------------\n",
    "-- 4 | 10117 | {\"type\":\"Polygon\", \"coordinates\":[[[...]]]} | 2 | 331\n",
    ";"
   ]
  },
  {
   "cell_type": "markdown",
   "metadata": {},
   "source": [
    "### 6.4. \n",
    "How many accommodations are around the Brandenburger gate within a Euclidean distance of 0.01 (which is roughly 677 meters at the latitude of Brandenburger gate)? The used geo-location below is the exact position of the Brandenburger gate."
   ]
  },
  {
   "cell_type": "code",
   "execution_count": null,
   "metadata": {},
   "outputs": [],
   "source": [
    "%%sql\n",
    "SELECT count(*) \n",
    "FROM public.accommodations \n",
    "WHERE ST_DWithin(shape, ST_GeomFromText('POINT(13.377704 52.516431)', 4326), 0.01)\n",
    "-------\n",
    "-- 137\n",
    ";"
   ]
  },
  {
   "cell_type": "markdown",
   "metadata": {},
   "source": [
    "### 6.5.\n",
    "Get the rough location of the Brandenburger gate from accommodations which are saying they are near by. This requires a sub select as follows and leads to a slightly different result as the position is not the same and we are closer to living areas."
   ]
  },
  {
   "cell_type": "code",
   "execution_count": null,
   "metadata": {},
   "outputs": [],
   "source": [
    "%%sql\n",
    "WITH poi(loc) as (\n",
    "  SELECT st_astext(shape) FROM accommodations WHERE name LIKE '%brandenburg gate%'\n",
    ")\n",
    "SELECT count(*) \n",
    "FROM accommodations a, poi p\n",
    "WHERE st_dwithin(a.shape, ST_GeomFromText(p.loc, 4326), 0.01)\n",
    "-----\n",
    "-- 240\n",
    ";"
   ]
  },
  {
   "cell_type": "markdown",
   "metadata": {},
   "source": [
    "### 6.6.\n",
    "Find all accommodations around the Brandenburger gate ordered by price in descending order. "
   ]
  },
  {
   "cell_type": "code",
   "execution_count": null,
   "metadata": {},
   "outputs": [],
   "source": [
    "%%sql\n",
    "SELECT name, price, ST_AsText(shape) \n",
    "FROM public.accommodations\n",
    "WHERE ST_DWithin(shape, ST_GeomFromText('POINT(13.377704 52.516431)', 4326), 0.01)\n",
    "ORDER BY price DESC\n",
    "-----\n",
    "-- 28 BED ROOM / 8 RO. APARTMENT/ HOSTEL               | 899 | POINT(...)\n",
    "-- \"Luxurious suite directly in the Sony Center Mitte\" | 480 | POINT(...)\n",
    ";"
   ]
  },
  {
   "cell_type": "markdown",
   "metadata": {},
   "source": [
    "### 6.7. \n",
    "Find the most expensive accommodation and show which zip code it is in."
   ]
  },
  {
   "cell_type": "code",
   "execution_count": null,
   "metadata": {},
   "outputs": [],
   "source": [
    "%%sql\n",
    "SELECT \n",
    "  a.price, a.name, ST_AsText(a.shape), \n",
    "  z.spatial_name, ST_AsText(z.wkb_geometry) \n",
    "FROM accommodations a, zipcode z \n",
    "WHERE price = 9000 AND ST_Within(a.shape, z.wkb_geometry)\n",
    "--------------------------------------------------------------------------------\n",
    "-- 9000 | Ueber den Dächern Berlins Zentrum | POINT(..) | 10777 | POLYGON((...))\n",
    ";"
   ]
  },
  {
   "cell_type": "markdown",
   "metadata": {},
   "source": [
    "### 6.8. \n",
    "Select all accommodations which are offered for the average price"
   ]
  },
  {
   "cell_type": "code",
   "execution_count": null,
   "metadata": {},
   "outputs": [],
   "source": [
    "%%sql\n",
    "SELECT a.price, a.name\n",
    "     , ST_AsText(a.shape)\n",
    "     , z.spatial_name\n",
    "     , ST_AsText(z.wkb_geometry) \n",
    "FROM accommodations a, zipcode z \n",
    "WHERE ST_Within(a.shape, z.wkb_geometry) \n",
    "  AND price = (SELECT AVG(price) FROM accommodations)\n",
    "-----\n",
    "-- 67 | Apartment 'Falcon' | POINT(...) | 10170 | POLYGON ((...))\n",
    ";"
   ]
  },
  {
   "cell_type": "markdown",
   "metadata": {},
   "source": [
    "### 6.9. \n",
    "Find the number of accommodations listed in Berlin grouped by zip codes and sort by amount of supply to find the hot spots."
   ]
  },
  {
   "cell_type": "code",
   "execution_count": null,
   "metadata": {},
   "outputs": [],
   "source": [
    "%%sql\n",
    "SELECT z.spatial_name as zip, count(*) as numAccommodations \n",
    "FROM public.accommodations a, public.zipcode z\n",
    "WHERE ST_Within(a.shape, z.wkb_geometry)\n",
    "GROUP BY zip \n",
    "ORDER BY numAccommodations DESC\n",
    "-----\n",
    "-- 10245 | 872\n",
    "-- 10247 | 832\n",
    "-- 10437 | 733\n",
    ";"
   ]
  },
  {
   "cell_type": "markdown",
   "metadata": {},
   "source": [
    "## 7. Running spatial queries on S3 data with Amazon Redshift Spectrum\n",
    "Redshift Spectrum does not currently offer native support for spatial data types, but you still can use spatial functions and predicates on data stored on S3. \n",
    "\n",
    "The following section describes how to leverage a csv-file store on S3 ind transform longitute and latitude values on the fly to combine it with Redshift Spatial.\n",
    "\n",
    "### 7.1. Create `spatial` external schema"
   ]
  },
  {
   "cell_type": "code",
   "execution_count": null,
   "metadata": {},
   "outputs": [],
   "source": [
    "%%sql\n",
    "/* -- Escape autocommit with */END;/* -- */\n",
    "CREATE EXTERNAL SCHEMA IF NOT EXISTS ant404_spatial \n",
    "FROM DATA CATALOG \n",
    "DATABASE 'spatial' \n",
    "IAM_ROLE 'arn:aws:iam::080945919444:role/mod-27c4c61fae3b42fe-RedshiftClusterRole-1GBP75PRR61RG'\n",
    "CREATE EXTERNAL DATABASE IF NOT EXISTS\n",
    ";\n",
    "SELECT * FROM svv_external_schemas WHERE schemaname = 'ant404_spatial';"
   ]
  },
  {
   "cell_type": "markdown",
   "metadata": {},
   "source": [
    "### 7.2. Create `geoname` external table"
   ]
  },
  {
   "cell_type": "code",
   "execution_count": null,
   "metadata": {},
   "outputs": [],
   "source": [
    "%%sql\n",
    "/* -- Escape autocommit with */END;/* -- */\n",
    "CREATE EXTERNAL TABLE ant404_spatial.geoname (\n",
    "       geonameid       INT\n",
    "     , name            VARCHAR(200)\n",
    "     , asciiname       VARCHAR(200)\n",
    "     , alternatenames  VARCHAR(2048)\n",
    "     , latitude        FLOAT\n",
    "     , longitude       FLOAT\n",
    "     , fclass          CHAR(1)\n",
    "     , fcode           VARCHAR(10)\n",
    "     , country         VARCHAR(2)\n",
    "     , cc2             VARCHAR(60)\n",
    "     , admin1          VARCHAR(20)\n",
    "     , admin2          VARCHAR(80)\n",
    "     , admin3          VARCHAR(20)\n",
    "     , admin4          VARCHAR(20)\n",
    "     , population      BIGINT\n",
    "     , elevation       INT\n",
    "     , gtopo30         INT\n",
    "     , timezone        VARCHAR(40)\n",
    "     , moddate         DATE\n",
    ")\n",
    "ROW FORMAT DELIMITED FIELDS TERMINATED BY '\\t' \n",
    "STORED AS TEXTFILE \n",
    "LOCATION 's3://redshift-managed-loads-datasets-us-east-1/dataset=spatial/size=None/table=geoname/'\n",
    "TABLE PROPERTIES ('compression_type'='gzip')\n",
    ";\n",
    "SELECT * FROM svv_external_tables WHERE schemaname = 'ant404_spatial' AND tablename = 'geoname';"
   ]
  },
  {
   "cell_type": "markdown",
   "metadata": {},
   "source": [
    "### 7.3. Transform `FLOAT` coordinates to `GEOMETRY` type."
   ]
  },
  {
   "cell_type": "code",
   "execution_count": null,
   "metadata": {},
   "outputs": [],
   "source": [
    "%%sql\n",
    "SELECT ST_GeomFromText('POINT('||longitude||' '||latitude||')', 4326) \n",
    "FROM ant404_spatial.geoname\n",
    "LIMIT 25; "
   ]
  },
  {
   "cell_type": "markdown",
   "metadata": {},
   "source": [
    "### 7.4. Get points of interest around Brandenburger Gate"
   ]
  },
  {
   "cell_type": "code",
   "execution_count": null,
   "metadata": {},
   "outputs": [],
   "source": [
    "%%sql\n",
    "SELECT *\n",
    "     , ST_GeomFromText('POINT('||longitude||' '||latitude||')', 4326) \n",
    "FROM ant404_spatial.geoname\n",
    "WHERE ST_DWithin(ST_GeomFromText('POINT('||longitude||' '||latitude||')', 4326), \n",
    "                 ST_GeomFromText('POINT(13.377704 52.516431)', 4326), \n",
    "                 0.01)\n",
    "LIMIT 25;"
   ]
  },
  {
   "cell_type": "markdown",
   "metadata": {},
   "source": [
    "### Further Info on Redshift Audit Logs\n",
    "* Redshfit Documentation: [Querying Spatial Data in Amazon Redshift](https://docs.aws.amazon.com/redshift/latest/dg/geospatial-overview.html)\n",
    "* Redshift Documentation: [Spatial Functions](https://docs.aws.amazon.com/redshift/latest/dg/geospatial-functions.html)\n",
    "* AWS Blog: [\"Using Spatial Data with Amazon Redshift\"](https://aws.amazon.com/blogs/aws/using-spatial-data-with-amazon-redshift/)"
   ]
  }
 ],
 "metadata": {
  "kernelspec": {
   "display_name": "conda_python3",
   "language": "python",
   "name": "conda_python3"
  },
  "language_info": {
   "codemirror_mode": {
    "name": "ipython",
    "version": 3
   },
   "file_extension": ".py",
   "mimetype": "text/x-python",
   "name": "python",
   "nbconvert_exporter": "python",
   "pygments_lexer": "ipython3",
   "version": "3.6.5"
  }
 },
 "nbformat": 4,
 "nbformat_minor": 2
}
